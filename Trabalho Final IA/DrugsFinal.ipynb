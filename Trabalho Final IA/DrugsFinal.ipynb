{
 "cells": [
  {
   "cell_type": "code",
   "execution_count": 5,
   "metadata": {},
   "outputs": [
    {
     "ename": "SyntaxError",
     "evalue": "invalid syntax (<ipython-input-5-6e186e717651>, line 6)",
     "output_type": "error",
     "traceback": [
      "\u001b[1;36m  File \u001b[1;32m\"<ipython-input-5-6e186e717651>\"\u001b[1;36m, line \u001b[1;32m6\u001b[0m\n\u001b[1;33m    import pydotplus|\u001b[0m\n\u001b[1;37m                    ^\u001b[0m\n\u001b[1;31mSyntaxError\u001b[0m\u001b[1;31m:\u001b[0m invalid syntax\n"
     ]
    }
   ],
   "source": [
    "import pandas as pd\n",
    "import numpy as np \n",
    "\n",
    "\n",
    "#Visualizar Arvore de decisão\n",
    "import pydotplus|\n",
    "import matplotlib.image as mpimg\n",
    "from sklearn import tree\n",
    "\n",
    "#Gráficos\n",
    "import matplotlib.pyplot as plt\n",
    "%matplotlib inline\n",
    "import seaborn as sns\n",
    "sns.set()\n",
    "\n",
    "\n",
    "#Algoritmos de Classificação\n",
    "from sklearn import tree\n",
    "import pydotplus\n",
    "from sklearn.ensemble import RandomForestClassifier\n",
    "from sklearn.tree import DecisionTreeClassifier\n",
    "from sklearn.neighbors import KNeighborsClassifier\n",
    "from sklearn import svm\n",
    "from sklearn.preprocessing import LabelEncoder\n",
    "from sklearn.model_selection import cross_val_score\n",
    "\n",
    "#Treinamento e Medidas\n",
    "from sklearn.model_selection import train_test_split\n",
    "from sklearn import metrics"
   ]
  },
  {
   "cell_type": "code",
   "execution_count": 6,
   "metadata": {},
   "outputs": [],
   "source": [
    "Database = pd.read_csv('C:/Users/lucas/Downloads/Pessoal/Inteligência Artificial/Trabalho Final IA/drug200.csv')\n"
   ]
  },
  {
   "cell_type": "code",
   "execution_count": 7,
   "metadata": {},
   "outputs": [
    {
     "data": {
      "text/html": [
       "<div>\n",
       "<style scoped>\n",
       "    .dataframe tbody tr th:only-of-type {\n",
       "        vertical-align: middle;\n",
       "    }\n",
       "\n",
       "    .dataframe tbody tr th {\n",
       "        vertical-align: top;\n",
       "    }\n",
       "\n",
       "    .dataframe thead th {\n",
       "        text-align: right;\n",
       "    }\n",
       "</style>\n",
       "<table border=\"1\" class=\"dataframe\">\n",
       "  <thead>\n",
       "    <tr style=\"text-align: right;\">\n",
       "      <th></th>\n",
       "      <th>Age</th>\n",
       "      <th>Sex</th>\n",
       "      <th>BP</th>\n",
       "      <th>Cholesterol</th>\n",
       "      <th>Na_to_K</th>\n",
       "      <th>Drug</th>\n",
       "    </tr>\n",
       "  </thead>\n",
       "  <tbody>\n",
       "    <tr>\n",
       "      <th>0</th>\n",
       "      <td>23</td>\n",
       "      <td>F</td>\n",
       "      <td>HIGH</td>\n",
       "      <td>HIGH</td>\n",
       "      <td>25.355</td>\n",
       "      <td>DrugY</td>\n",
       "    </tr>\n",
       "    <tr>\n",
       "      <th>1</th>\n",
       "      <td>47</td>\n",
       "      <td>M</td>\n",
       "      <td>LOW</td>\n",
       "      <td>HIGH</td>\n",
       "      <td>13.093</td>\n",
       "      <td>drugC</td>\n",
       "    </tr>\n",
       "    <tr>\n",
       "      <th>2</th>\n",
       "      <td>47</td>\n",
       "      <td>M</td>\n",
       "      <td>LOW</td>\n",
       "      <td>HIGH</td>\n",
       "      <td>10.114</td>\n",
       "      <td>drugC</td>\n",
       "    </tr>\n",
       "    <tr>\n",
       "      <th>3</th>\n",
       "      <td>28</td>\n",
       "      <td>F</td>\n",
       "      <td>NORMAL</td>\n",
       "      <td>HIGH</td>\n",
       "      <td>7.798</td>\n",
       "      <td>drugX</td>\n",
       "    </tr>\n",
       "    <tr>\n",
       "      <th>4</th>\n",
       "      <td>61</td>\n",
       "      <td>F</td>\n",
       "      <td>LOW</td>\n",
       "      <td>HIGH</td>\n",
       "      <td>18.043</td>\n",
       "      <td>DrugY</td>\n",
       "    </tr>\n",
       "  </tbody>\n",
       "</table>\n",
       "</div>"
      ],
      "text/plain": [
       "   Age Sex      BP Cholesterol  Na_to_K   Drug\n",
       "0   23   F    HIGH        HIGH   25.355  DrugY\n",
       "1   47   M     LOW        HIGH   13.093  drugC\n",
       "2   47   M     LOW        HIGH   10.114  drugC\n",
       "3   28   F  NORMAL        HIGH    7.798  drugX\n",
       "4   61   F     LOW        HIGH   18.043  DrugY"
      ]
     },
     "execution_count": 7,
     "metadata": {},
     "output_type": "execute_result"
    }
   ],
   "source": [
    "Database.head()"
   ]
  },
  {
   "cell_type": "code",
   "execution_count": 8,
   "metadata": {},
   "outputs": [
    {
     "data": {
      "text/html": [
       "<div>\n",
       "<style scoped>\n",
       "    .dataframe tbody tr th:only-of-type {\n",
       "        vertical-align: middle;\n",
       "    }\n",
       "\n",
       "    .dataframe tbody tr th {\n",
       "        vertical-align: top;\n",
       "    }\n",
       "\n",
       "    .dataframe thead th {\n",
       "        text-align: right;\n",
       "    }\n",
       "</style>\n",
       "<table border=\"1\" class=\"dataframe\">\n",
       "  <thead>\n",
       "    <tr style=\"text-align: right;\">\n",
       "      <th></th>\n",
       "      <th>Age</th>\n",
       "      <th>Sex</th>\n",
       "      <th>BP</th>\n",
       "      <th>Cholesterol</th>\n",
       "      <th>Na_to_K</th>\n",
       "      <th>Drug</th>\n",
       "    </tr>\n",
       "  </thead>\n",
       "  <tbody>\n",
       "    <tr>\n",
       "      <th>count</th>\n",
       "      <td>200.000000</td>\n",
       "      <td>200</td>\n",
       "      <td>200</td>\n",
       "      <td>200</td>\n",
       "      <td>200.000000</td>\n",
       "      <td>200</td>\n",
       "    </tr>\n",
       "    <tr>\n",
       "      <th>unique</th>\n",
       "      <td>NaN</td>\n",
       "      <td>2</td>\n",
       "      <td>3</td>\n",
       "      <td>2</td>\n",
       "      <td>NaN</td>\n",
       "      <td>5</td>\n",
       "    </tr>\n",
       "    <tr>\n",
       "      <th>top</th>\n",
       "      <td>NaN</td>\n",
       "      <td>M</td>\n",
       "      <td>HIGH</td>\n",
       "      <td>HIGH</td>\n",
       "      <td>NaN</td>\n",
       "      <td>DrugY</td>\n",
       "    </tr>\n",
       "    <tr>\n",
       "      <th>freq</th>\n",
       "      <td>NaN</td>\n",
       "      <td>104</td>\n",
       "      <td>77</td>\n",
       "      <td>103</td>\n",
       "      <td>NaN</td>\n",
       "      <td>91</td>\n",
       "    </tr>\n",
       "    <tr>\n",
       "      <th>mean</th>\n",
       "      <td>44.315000</td>\n",
       "      <td>NaN</td>\n",
       "      <td>NaN</td>\n",
       "      <td>NaN</td>\n",
       "      <td>16.084485</td>\n",
       "      <td>NaN</td>\n",
       "    </tr>\n",
       "    <tr>\n",
       "      <th>std</th>\n",
       "      <td>16.544315</td>\n",
       "      <td>NaN</td>\n",
       "      <td>NaN</td>\n",
       "      <td>NaN</td>\n",
       "      <td>7.223956</td>\n",
       "      <td>NaN</td>\n",
       "    </tr>\n",
       "    <tr>\n",
       "      <th>min</th>\n",
       "      <td>15.000000</td>\n",
       "      <td>NaN</td>\n",
       "      <td>NaN</td>\n",
       "      <td>NaN</td>\n",
       "      <td>6.269000</td>\n",
       "      <td>NaN</td>\n",
       "    </tr>\n",
       "    <tr>\n",
       "      <th>25%</th>\n",
       "      <td>31.000000</td>\n",
       "      <td>NaN</td>\n",
       "      <td>NaN</td>\n",
       "      <td>NaN</td>\n",
       "      <td>10.445500</td>\n",
       "      <td>NaN</td>\n",
       "    </tr>\n",
       "    <tr>\n",
       "      <th>50%</th>\n",
       "      <td>45.000000</td>\n",
       "      <td>NaN</td>\n",
       "      <td>NaN</td>\n",
       "      <td>NaN</td>\n",
       "      <td>13.936500</td>\n",
       "      <td>NaN</td>\n",
       "    </tr>\n",
       "    <tr>\n",
       "      <th>75%</th>\n",
       "      <td>58.000000</td>\n",
       "      <td>NaN</td>\n",
       "      <td>NaN</td>\n",
       "      <td>NaN</td>\n",
       "      <td>19.380000</td>\n",
       "      <td>NaN</td>\n",
       "    </tr>\n",
       "    <tr>\n",
       "      <th>max</th>\n",
       "      <td>74.000000</td>\n",
       "      <td>NaN</td>\n",
       "      <td>NaN</td>\n",
       "      <td>NaN</td>\n",
       "      <td>38.247000</td>\n",
       "      <td>NaN</td>\n",
       "    </tr>\n",
       "  </tbody>\n",
       "</table>\n",
       "</div>"
      ],
      "text/plain": [
       "               Age  Sex    BP Cholesterol     Na_to_K   Drug\n",
       "count   200.000000  200   200         200  200.000000    200\n",
       "unique         NaN    2     3           2         NaN      5\n",
       "top            NaN    M  HIGH        HIGH         NaN  DrugY\n",
       "freq           NaN  104    77         103         NaN     91\n",
       "mean     44.315000  NaN   NaN         NaN   16.084485    NaN\n",
       "std      16.544315  NaN   NaN         NaN    7.223956    NaN\n",
       "min      15.000000  NaN   NaN         NaN    6.269000    NaN\n",
       "25%      31.000000  NaN   NaN         NaN   10.445500    NaN\n",
       "50%      45.000000  NaN   NaN         NaN   13.936500    NaN\n",
       "75%      58.000000  NaN   NaN         NaN   19.380000    NaN\n",
       "max      74.000000  NaN   NaN         NaN   38.247000    NaN"
      ]
     },
     "execution_count": 8,
     "metadata": {},
     "output_type": "execute_result"
    }
   ],
   "source": [
    "Database.describe(include = 'all')"
   ]
  },
  {
   "cell_type": "code",
   "execution_count": 9,
   "metadata": {},
   "outputs": [
    {
     "name": "stdout",
     "output_type": "stream",
     "text": [
      "Proporção de Remédios\n",
      "DrugY    91\n",
      "drugX    54\n",
      "drugA    23\n",
      "drugC    16\n",
      "drugB    16\n",
      "Name: Drug, dtype: int64\n"
     ]
    }
   ],
   "source": [
    "#Váriavel tipo de Medicamento\n",
    "print(\"Proporção de Remédios\")\n",
    "print(\"{}\".format(Database.Drug.value_counts()))"
   ]
  },
  {
   "cell_type": "code",
   "execution_count": 10,
   "metadata": {},
   "outputs": [
    {
     "data": {
      "text/plain": [
       "<Figure size 648x360 with 0 Axes>"
      ]
     },
     "metadata": {},
     "output_type": "display_data"
    },
    {
     "data": {
      "image/png": "[encoded data removed]",
      "text/plain": [
       "<Figure size 360x360 with 1 Axes>"
      ]
     },
     "metadata": {},
     "output_type": "display_data"
    }
   ],
   "source": [
    "plt.figure(figsize = (9,5))\n",
    "sns.displot(Database.Drug)\n",
    "plt.show()"
   ]
  },
  {
   "cell_type": "code",
   "execution_count": 11,
   "metadata": {},
   "outputs": [
    {
     "name": "stdout",
     "output_type": "stream",
     "text": [
      "Maior Proporção de Sódio para Potássio 38.247\n",
      "Menor Proporção de Sódio para Potássio 6.269\n",
      "Média da Proporção de Sódio para Potássio 16.084485\n"
     ]
    }
   ],
   "source": [
    "#Proporção de Sódio para Potássio presente no sangue\n",
    "print(\"Maior Proporção de Sódio para Potássio {}\".format(Database.Na_to_K.max()))\n",
    "print(\"Menor Proporção de Sódio para Potássio {}\".format(Database.Na_to_K.min()))\n",
    "print(\"Média da Proporção de Sódio para Potássio {}\".format(Database.Na_to_K.mean()))"
   ]
  },
  {
   "cell_type": "code",
   "execution_count": 12,
   "metadata": {},
   "outputs": [
    {
     "data": {
      "text/plain": [
       "<Figure size 648x360 with 0 Axes>"
      ]
     },
     "metadata": {},
     "output_type": "display_data"
    },
    {
     "data": {
      "image/png": "[encoded data removed]",
      "text/plain": [
       "<Figure size 360x360 with 1 Axes>"
      ]
     },
     "metadata": {},
     "output_type": "display_data"
    }
   ],
   "source": [
    "plt.figure(figsize = (9,5))\n",
    "sns.displot(Database.Na_to_K)\n",
    "plt.show()"
   ]
  },
  {
   "cell_type": "code",
   "execution_count": 13,
   "metadata": {},
   "outputs": [
    {
     "name": "stdout",
     "output_type": "stream",
     "text": [
      "Quantidade de pessoas com colesterol alto e baixo\n",
      "HIGH      103\n",
      "NORMAL     97\n",
      "Name: Cholesterol, dtype: int64\n"
     ]
    }
   ],
   "source": [
    "#Variável Nivel de Colesterol\n",
    "print(\"Quantidade de pessoas com colesterol alto e baixo\")\n",
    "print(\"{}\".format(Database.Cholesterol.value_counts()))"
   ]
  },
  {
   "cell_type": "code",
   "execution_count": 14,
   "metadata": {},
   "outputs": [
    {
     "data": {
      "text/plain": [
       "<Figure size 1080x360 with 0 Axes>"
      ]
     },
     "metadata": {},
     "output_type": "display_data"
    },
    {
     "data": {
      "image/png": "[encoded data removed]",
      "text/plain": [
       "<Figure size 360x360 with 1 Axes>"
      ]
     },
     "metadata": {},
     "output_type": "display_data"
    }
   ],
   "source": [
    "plt.figure(figsize = (15,5))\n",
    "sns.displot(Database.Cholesterol)\n",
    "plt.show()"
   ]
  },
  {
   "cell_type": "code",
   "execution_count": 15,
   "metadata": {},
   "outputs": [
    {
     "name": "stdout",
     "output_type": "stream",
     "text": [
      "Quantidade de pessoas com os nível de pressão alto e baixo e Normal\n",
      "HIGH      77\n",
      "LOW       64\n",
      "NORMAL    59\n",
      "Name: BP, dtype: int64\n"
     ]
    }
   ],
   "source": [
    "#Nível da Pressão Arterial \n",
    "print(\"Quantidade de pessoas com os nível de pressão alto e baixo e Normal\")\n",
    "print(\"{}\".format(Database.BP.value_counts()))"
   ]
  },
  {
   "cell_type": "code",
   "execution_count": 17,
   "metadata": {},
   "outputs": [
    {
     "data": {
      "text/plain": [
       "<Figure size 720x360 with 0 Axes>"
      ]
     },
     "metadata": {},
     "output_type": "display_data"
    },
    {
     "data": {
      "image/png": "[encoded data removed]",
      "text/plain": [
       "<Figure size 360x360 with 1 Axes>"
      ]
     },
     "metadata": {},
     "output_type": "display_data"
    }
   ],
   "source": [
    "plt.figure(figsize = (10,5))\n",
    "sns.displot(Database.BP)\n",
    "plt.show()"
   ]
  },
  {
   "cell_type": "code",
   "execution_count": 18,
   "metadata": {},
   "outputs": [
    {
     "name": "stdout",
     "output_type": "stream",
     "text": [
      "Sexo dos Pacientes\n",
      "M    104\n",
      "F     96\n",
      "Name: Sex, dtype: int64\n"
     ]
    }
   ],
   "source": [
    "#Sexo \n",
    "print(\"Sexo dos Pacientes\")\n",
    "print(\"{}\".format(Database.Sex.value_counts()))"
   ]
  },
  {
   "cell_type": "code",
   "execution_count": 19,
   "metadata": {},
   "outputs": [
    {
     "data": {
      "text/plain": [
       "<Figure size 720x360 with 0 Axes>"
      ]
     },
     "metadata": {},
     "output_type": "display_data"
    },
    {
     "data": {
      "image/png": "[encoded data removed]",
      "text/plain": [
       "<Figure size 360x360 with 1 Axes>"
      ]
     },
     "metadata": {},
     "output_type": "display_data"
    }
   ],
   "source": [
    "plt.figure(figsize = (10,5))\n",
    "sns.displot(Database.Sex)\n",
    "plt.show()"
   ]
  },
  {
   "cell_type": "code",
   "execution_count": 20,
   "metadata": {},
   "outputs": [
    {
     "name": "stdout",
     "output_type": "stream",
     "text": [
      "Maior idade 74\n",
      "Menor idade 15\n",
      "Média da Idades 44.315\n"
     ]
    }
   ],
   "source": [
    "#Variável Idade\n",
    "print(\"Maior idade {}\".format(Database.Age.max()))\n",
    "print(\"Menor idade {}\".format(Database.Age.min()))\n",
    "print(\"Média da Idades {}\".format(Database.Age.mean()))"
   ]
  },
  {
   "cell_type": "code",
   "execution_count": 21,
   "metadata": {},
   "outputs": [
    {
     "name": "stderr",
     "output_type": "stream",
     "text": [
      "c:\\users\\lucas\\appdata\\local\\programs\\python\\python38\\lib\\site-packages\\seaborn\\_decorators.py:36: FutureWarning: Pass the following variable as a keyword arg: x. From version 0.12, the only valid positional argument will be `data`, and passing other arguments without an explicit keyword will result in an error or misinterpretation.\n",
      "  warnings.warn(\n"
     ]
    },
    {
     "data": {
      "image/png": "[encoded data removed]",
      "text/plain": [
       "<Figure size 1080x360 with 1 Axes>"
      ]
     },
     "metadata": {},
     "output_type": "display_data"
    }
   ],
   "source": [
    "plt.figure(figsize = (15,5))\n",
    "sns.countplot(Database.Age)\n",
    "plt.show()"
   ]
  },
  {
   "cell_type": "code",
   "execution_count": 22,
   "metadata": {},
   "outputs": [],
   "source": [
    "# Comparação entre as váriaveis do dataset\n",
    "# Idade ~~ Tipo de Rémedio\n",
    "# Sexo ~~ Tipo de Rémedio\n",
    "# Pressão arterial ~~ Tipo de Rémedio\n",
    "# Colesterol ~~ Tipo de Rémedio\n",
    "# Proporção Sódio e Potácio no sangue ~~ Tipo de Rémedio"
   ]
  },
  {
   "cell_type": "code",
   "execution_count": 23,
   "metadata": {},
   "outputs": [
    {
     "data": {
      "text/plain": [
       "Text(0.5, 1.0, 'Idade ~~ Tipo de Rémedio')"
      ]
     },
     "execution_count": 23,
     "metadata": {},
     "output_type": "execute_result"
    },
    {
     "data": {
      "image/png": "[encoded data removed]",
      "text/plain": [
       "<Figure size 360x360 with 1 Axes>"
      ]
     },
     "metadata": {},
     "output_type": "display_data"
    }
   ],
   "source": [
    "# Idade ~~ Tipo de Rémedio\n",
    "\n",
    "\n",
    "sns.catplot(x = 'Age', y ='Drug', data = Database)\n",
    "plt.legend(Database.Drug.value_counts().index)\n",
    "plt.title(\"Idade ~~ Tipo de Rémedio\")"
   ]
  },
  {
   "cell_type": "code",
   "execution_count": 24,
   "metadata": {},
   "outputs": [
    {
     "name": "stdout",
     "output_type": "stream",
     "text": [
      "Através do Gráfico percebemos que o RemédioB só é usado em pessoas maiores de 51 anos\n",
      "Através do Gráfico percebemos que o RemédioA só é usado em pessoas menores de 50 anos\n",
      "Os RemédiosY,RemédiosX,RemédiosC, aparecem em toda faixa etária alguns com frenquências maiores e outros com frequências menores \n"
     ]
    }
   ],
   "source": [
    "print(\"Através do Gráfico percebemos que o RemédioB só é usado em pessoas maiores de {} anos\".format(Database.Age[Database.Drug == \"drugB\"].min()))\n",
    "print(\"Através do Gráfico percebemos que o RemédioA só é usado em pessoas menores de {} anos\".format(Database.Age[Database.Drug == \"drugA\"].max()))\n",
    "print(\"Os RemédiosY,RemédiosX,RemédiosC, aparecem em toda faixa etária alguns com frenquências maiores e outros com frequências menores \")"
   ]
  },
  {
   "cell_type": "code",
   "execution_count": 25,
   "metadata": {},
   "outputs": [
    {
     "name": "stdout",
     "output_type": "stream",
     "text": [
      "Sex  Drug \n",
      "F    DrugY    47\n",
      "     drugX    27\n",
      "     drugA     9\n",
      "     drugC     7\n",
      "     drugB     6\n",
      "M    DrugY    44\n",
      "     drugX    27\n",
      "     drugA    14\n",
      "     drugB    10\n",
      "     drugC     9\n",
      "Name: Drug, dtype: int64\n"
     ]
    },
    {
     "data": {
      "text/plain": [
       "Text(0.5, 1.0, 'Sexo ~~ Tipo de Remédio')"
      ]
     },
     "execution_count": 25,
     "metadata": {},
     "output_type": "execute_result"
    },
    {
     "data": {
      "image/png": "[encoded data removed]",
      "text/plain": [
       "<Figure size 432x288 with 1 Axes>"
      ]
     },
     "metadata": {},
     "output_type": "display_data"
    }
   ],
   "source": [
    "# Sexo ~~ Tipo de Rémedio\n",
    "\n",
    "sexo_Remedio = Database.groupby('Sex').Drug.value_counts()\n",
    "print(sexo_Remedio)\n",
    "sexo_Remedio.unstack(level=0).plot(kind='bar', subplots=False)\n",
    "plt.title(\"Sexo ~~ Tipo de Remédio\")"
   ]
  },
  {
   "cell_type": "code",
   "execution_count": 26,
   "metadata": {},
   "outputs": [
    {
     "name": "stdout",
     "output_type": "stream",
     "text": [
      "No geral os homens são mais medicados do que as mulheres, pois estão em maior quantidade. Com isso, é possível concluir que o Sexo não é um fator decisivo para classificação do Rémedio\n"
     ]
    }
   ],
   "source": [
    "print(\"No geral os homens são mais medicados do que as mulheres, pois estão em maior quantidade. Com isso, é possível concluir que o Sexo não é um fator decisivo para classificação do Rémedio\")"
   ]
  },
  {
   "cell_type": "code",
   "execution_count": 27,
   "metadata": {},
   "outputs": [
    {
     "name": "stdout",
     "output_type": "stream",
     "text": [
      "BP      Drug \n",
      "HIGH    DrugY    38\n",
      "        drugA    23\n",
      "        drugB    16\n",
      "LOW     DrugY    30\n",
      "        drugX    18\n",
      "        drugC    16\n",
      "NORMAL  drugX    36\n",
      "        DrugY    23\n",
      "Name: Drug, dtype: int64\n"
     ]
    },
    {
     "data": {
      "text/plain": [
       "Text(0.5, 1.0, 'Pressão arterial ~~ Tipo de Rémedio')"
      ]
     },
     "execution_count": 27,
     "metadata": {},
     "output_type": "execute_result"
    },
    {
     "data": {
      "image/png": "[encoded data removed]",
      "text/plain": [
       "<Figure size 432x288 with 1 Axes>"
      ]
     },
     "metadata": {},
     "output_type": "display_data"
    }
   ],
   "source": [
    "# Pressão arterial ~~ Tipo de Rémedio\n",
    "\n",
    "PA_Remedio = Database.groupby('BP').Drug.value_counts()\n",
    "print(PA_Remedio)\n",
    "\n",
    "\n",
    "PA_Remedio.unstack(level=0).plot(kind='bar', subplots=False)\n",
    "plt.title(\"Pressão arterial ~~ Tipo de Rémedio\")"
   ]
  },
  {
   "cell_type": "code",
   "execution_count": 28,
   "metadata": {},
   "outputs": [
    {
     "name": "stdout",
     "output_type": "stream",
     "text": [
      "Podemos Perceber que os Remédios A e B só são receitas quando o nível da Pressão está alta\n",
      "O Remédio C só é receitado quando a Pressão esta Baixa\n",
      "O Remedio X não é receitado quando os pacientes tem Pressão Alta\n"
     ]
    }
   ],
   "source": [
    "print(\"Podemos Perceber que os Remédios A e B só são receitas quando o nível da Pressão está alta\")\n",
    "print(\"O Remédio C só é receitado quando a Pressão esta Baixa\")\n",
    "print(\"O Remedio X não é receitado quando os pacientes tem Pressão Alta\")"
   ]
  },
  {
   "cell_type": "code",
   "execution_count": 29,
   "metadata": {},
   "outputs": [
    {
     "name": "stdout",
     "output_type": "stream",
     "text": [
      "Cholesterol  Drug \n",
      "HIGH         DrugY    47\n",
      "             drugX    20\n",
      "             drugC    16\n",
      "             drugA    12\n",
      "             drugB     8\n",
      "NORMAL       DrugY    44\n",
      "             drugX    34\n",
      "             drugA    11\n",
      "             drugB     8\n",
      "Name: Drug, dtype: int64\n"
     ]
    },
    {
     "data": {
      "text/plain": [
       "Text(0.5, 1.0, 'Colesterol ~~ Tipo de Rémedio')"
      ]
     },
     "execution_count": 29,
     "metadata": {},
     "output_type": "execute_result"
    },
    {
     "data": {
      "image/png": "[encoded data removed]",
      "text/plain": [
       "<Figure size 432x288 with 1 Axes>"
      ]
     },
     "metadata": {},
     "output_type": "display_data"
    }
   ],
   "source": [
    "# Colesterol ~~ Tipo de Rémedio\n",
    "\n",
    "Colesterol_Remedio = Database.groupby('Cholesterol').Drug.value_counts()\n",
    "print(Colesterol_Remedio)\n",
    "\n",
    "Colesterol_Remedio.unstack(level=0).plot(kind='bar', subplots=False)\n",
    "plt.title(\"Colesterol ~~ Tipo de Rémedio\")"
   ]
  },
  {
   "cell_type": "code",
   "execution_count": 30,
   "metadata": {},
   "outputs": [
    {
     "name": "stdout",
     "output_type": "stream",
     "text": [
      "No geral todos os Rémedios são usados nos dois níveis de colesterol, exceto no Rémedio C que só é utilizada quando o colesterol está alto, logo o nível de colesterol é importante para classificação do Remédio C\n"
     ]
    }
   ],
   "source": [
    "print(\"No geral todos os Rémedios são usados nos dois níveis de colesterol, exceto no Rémedio C que só é utilizada quando o colesterol está alto, logo o nível de colesterol é importante para classificação do Remédio C\")"
   ]
  },
  {
   "cell_type": "code",
   "execution_count": 31,
   "metadata": {},
   "outputs": [
    {
     "data": {
      "text/plain": [
       "Text(0.5, 1.0, 'Proporção Sódio e Potácio no sangue ~~ Tipo de Rémedio')"
      ]
     },
     "execution_count": 31,
     "metadata": {},
     "output_type": "execute_result"
    },
    {
     "data": {
      "image/png": "[encoded data removed]",
      "text/plain": [
       "<Figure size 360x360 with 1 Axes>"
      ]
     },
     "metadata": {},
     "output_type": "display_data"
    }
   ],
   "source": [
    "# Proporção Sódio e Potácio no sangue ~~ Tipo de Rémedio\n",
    "\n",
    "sns.catplot(x = 'Drug', y ='Na_to_K', data = Database)\n",
    "plt.legend(Database.Drug.value_counts().index)\n",
    "plt.title(\"Proporção Sódio e Potácio no sangue ~~ Tipo de Rémedio\")"
   ]
  },
  {
   "cell_type": "code",
   "execution_count": 32,
   "metadata": {},
   "outputs": [
    {
     "name": "stdout",
     "output_type": "stream",
     "text": [
      "O Remédio Y só é utilizado quando a proporção de Sódio e Potácio no sangue esta acima de 15, diferentes dos demais que só são receitados quando a proporção está menor do que 15\n",
      "logo percebemos que assim como a idade a Proporção Sódio e Potácio no sangue é uma caracteristica importante na classificação do Remédio\n"
     ]
    }
   ],
   "source": [
    "print(\"O Remédio Y só é utilizado quando a proporção de Sódio e Potácio no sangue esta acima de 15, diferentes dos demais que só são receitados quando a proporção está menor do que 15\")\n",
    "print(\"logo percebemos que assim como a idade a Proporção Sódio e Potácio no sangue é uma caracteristica importante na classificação do Remédio\")"
   ]
  },
  {
   "cell_type": "code",
   "execution_count": 33,
   "metadata": {},
   "outputs": [
    {
     "name": "stdout",
     "output_type": "stream",
     "text": [
      "Age\n",
      "[23 47 28 61 22 49 41 60 43 34 74 50 16 69 32 57 63 48 33 31 39 45 18 65\n",
      " 53 46 15 73 58 66 37 68 67 62 24 26 40 38 29 17 54 70 36 19 64 59 51 42\n",
      " 56 20 72 35 52 55 30 21 25]\n",
      "\n",
      "Sex\n",
      "['F' 'M']\n",
      "\n",
      "BP\n",
      "['HIGH' 'LOW' 'NORMAL']\n",
      "\n",
      "Cholesterol\n",
      "['HIGH' 'NORMAL']\n",
      "\n",
      "Na_to_K\n",
      "[25.355 13.093 10.114  7.798 18.043  8.607 16.275 11.037 15.171 19.368\n",
      " 11.767 19.199 15.376 20.942 12.703 15.516 11.455 13.972  7.298 25.974\n",
      " 19.128 25.917 30.568 15.036 33.486 18.809 30.366  9.381 22.697 17.951\n",
      "  8.75   9.567 11.014 31.876 14.133  7.285  9.445 13.938  9.709  9.084\n",
      " 19.221 14.239 15.79  12.26  12.295  8.107 13.091 10.291 31.686 19.796\n",
      " 19.416 10.898 27.183 18.457 10.189 14.16  11.34  27.826 10.091 18.703\n",
      " 29.875  9.475 20.693  8.37  13.303 27.05  12.856 10.832 24.658 24.276\n",
      " 13.967 19.675 10.605 22.905 17.069 20.909 11.198 19.161 13.313 10.84\n",
      " 13.934  7.761  9.712 11.326 10.067 13.935 13.597 15.478 23.091 17.211\n",
      " 16.594 15.156 29.45  29.271 15.015 11.424 38.247 25.395 35.639 16.725\n",
      " 11.871 12.854 13.127  8.966 28.294  8.968 11.953 20.013  9.677 16.85\n",
      "  7.49   6.683  9.17  13.769  9.281 18.295  9.514 10.103 10.292 25.475\n",
      " 27.064 17.206 22.456 16.753 12.495 25.969 16.347  7.845 33.542  7.477\n",
      " 20.489 32.922 13.598 25.786 21.036 11.939 10.977 12.894 11.343 10.065\n",
      "  6.269 25.741  8.621 15.436  9.664  9.443 12.006 12.307  7.34   8.151\n",
      "  8.7   11.009  7.261 14.642 16.724 10.537 11.227 22.963 10.444 12.923\n",
      " 10.443  9.945 12.859 28.632 19.007 26.645 14.216 23.003 11.262 12.879\n",
      " 10.017 17.225 18.739 12.766 18.348 10.446 19.011 15.969 15.891 22.818\n",
      " 13.884 11.686 15.49  37.188 25.893  9.849 10.403 34.997 20.932 18.991\n",
      "  8.011 16.31   6.769 34.686 11.567  9.894 14.02  11.349]\n",
      "\n",
      "Drug\n",
      "['DrugY' 'drugC' 'drugX' 'drugA' 'drugB']\n",
      "\n"
     ]
    }
   ],
   "source": [
    "# Processamento dos Dados\n",
    "#Mudando os valores das Strings para Inteiro nas colunas Sexo, Pressão Arterial e Colesterol\n",
    "\n",
    "for coluna in Database:\n",
    "    print(coluna)\n",
    "    print(Database[coluna].unique())\n",
    "    print()"
   ]
  },
  {
   "cell_type": "code",
   "execution_count": 34,
   "metadata": {},
   "outputs": [],
   "source": [
    "#Tratamento de Dados transformando Strings em Inteiros\n",
    "le=LabelEncoder()"
   ]
  },
  {
   "cell_type": "code",
   "execution_count": 35,
   "metadata": {},
   "outputs": [],
   "source": [
    "for i in list(Database.columns):\n",
    "    if Database[i].dtype=='object':\n",
    "        Database[i]=le.fit_transform(Database[i])"
   ]
  },
  {
   "cell_type": "code",
   "execution_count": 36,
   "metadata": {},
   "outputs": [
    {
     "name": "stdout",
     "output_type": "stream",
     "text": [
      "Age\n",
      "[23 47 28 61 22 49 41 60 43 34 74 50 16 69 32 57 63 48 33 31 39 45 18 65\n",
      " 53 46 15 73 58 66 37 68 67 62 24 26 40 38 29 17 54 70 36 19 64 59 51 42\n",
      " 56 20 72 35 52 55 30 21 25]\n",
      "\n",
      "Sex\n",
      "[0 1]\n",
      "\n",
      "BP\n",
      "[0 1 2]\n",
      "\n",
      "Cholesterol\n",
      "[0 1]\n",
      "\n",
      "Na_to_K\n",
      "[25.355 13.093 10.114  7.798 18.043  8.607 16.275 11.037 15.171 19.368\n",
      " 11.767 19.199 15.376 20.942 12.703 15.516 11.455 13.972  7.298 25.974\n",
      " 19.128 25.917 30.568 15.036 33.486 18.809 30.366  9.381 22.697 17.951\n",
      "  8.75   9.567 11.014 31.876 14.133  7.285  9.445 13.938  9.709  9.084\n",
      " 19.221 14.239 15.79  12.26  12.295  8.107 13.091 10.291 31.686 19.796\n",
      " 19.416 10.898 27.183 18.457 10.189 14.16  11.34  27.826 10.091 18.703\n",
      " 29.875  9.475 20.693  8.37  13.303 27.05  12.856 10.832 24.658 24.276\n",
      " 13.967 19.675 10.605 22.905 17.069 20.909 11.198 19.161 13.313 10.84\n",
      " 13.934  7.761  9.712 11.326 10.067 13.935 13.597 15.478 23.091 17.211\n",
      " 16.594 15.156 29.45  29.271 15.015 11.424 38.247 25.395 35.639 16.725\n",
      " 11.871 12.854 13.127  8.966 28.294  8.968 11.953 20.013  9.677 16.85\n",
      "  7.49   6.683  9.17  13.769  9.281 18.295  9.514 10.103 10.292 25.475\n",
      " 27.064 17.206 22.456 16.753 12.495 25.969 16.347  7.845 33.542  7.477\n",
      " 20.489 32.922 13.598 25.786 21.036 11.939 10.977 12.894 11.343 10.065\n",
      "  6.269 25.741  8.621 15.436  9.664  9.443 12.006 12.307  7.34   8.151\n",
      "  8.7   11.009  7.261 14.642 16.724 10.537 11.227 22.963 10.444 12.923\n",
      " 10.443  9.945 12.859 28.632 19.007 26.645 14.216 23.003 11.262 12.879\n",
      " 10.017 17.225 18.739 12.766 18.348 10.446 19.011 15.969 15.891 22.818\n",
      " 13.884 11.686 15.49  37.188 25.893  9.849 10.403 34.997 20.932 18.991\n",
      "  8.011 16.31   6.769 34.686 11.567  9.894 14.02  11.349]\n",
      "\n",
      "Drug\n",
      "[0 3 4 1 2]\n",
      "\n"
     ]
    }
   ],
   "source": [
    "for coluna in Database:\n",
    "    print(coluna)\n",
    "    print(Database[coluna].unique())\n",
    "    print()"
   ]
  },
  {
   "cell_type": "code",
   "execution_count": 37,
   "metadata": {},
   "outputs": [],
   "source": [
    "y=Database['Drug']\n",
    "x=Database.drop(['Drug'],axis=1)\n",
    "TrainScoreAlgoritmos = {}\n",
    "TestScoreAlgortimos = {}"
   ]
  },
  {
   "cell_type": "code",
   "execution_count": 38,
   "metadata": {},
   "outputs": [],
   "source": [
    "#Treinamento\n",
    "x_train,x_test,y_train,y_test=train_test_split(x,y,random_state=3,test_size=0.2)"
   ]
  },
  {
   "cell_type": "code",
   "execution_count": 39,
   "metadata": {},
   "outputs": [
    {
     "name": "stdout",
     "output_type": "stream",
     "text": [
      "X_train shape: (160, 5)\n",
      "X_test shape: (40, 5)\n",
      "y_train shape: (160,)\n",
      "y_test shape: (40,)\n"
     ]
    }
   ],
   "source": [
    "print(\"X_train shape:\",x_train.shape)\n",
    "print(\"X_test shape:\",x_test.shape)\n",
    "print(\"y_train shape:\",y_train.shape)\n",
    "print(\"y_test shape:\",y_test.shape)"
   ]
  },
  {
   "cell_type": "code",
   "execution_count": 40,
   "metadata": {},
   "outputs": [
    {
     "name": "stdout",
     "output_type": "stream",
     "text": [
      "Média do Train Score: 0.65\n",
      "Melhor Taxa de Acerto :  0.675\n"
     ]
    }
   ],
   "source": [
    "# Primeiro Algoritmo KNN\n",
    "\n",
    "lista = []\n",
    "for i in range(1,20):\n",
    "    knn= KNeighborsClassifier(n_neighbors=i)\n",
    "    accuracies = cross_val_score(knn, x_train, y_train, cv=5)\n",
    "    knn.fit(x_train,y_train)\n",
    "    \n",
    "    pred_s=knn.predict(x_test)\n",
    "    \n",
    "    scores=metrics.accuracy_score(y_test,pred_s)\n",
    "    \n",
    "    lista.append(scores)\n",
    "maiorScore =  max(lista)\n",
    "print(\"Média do Train Score:\",np.mean(accuracies))\n",
    "print(\"Melhor Taxa de Acerto : \", maiorScore)"
   ]
  },
  {
   "cell_type": "code",
   "execution_count": 41,
   "metadata": {},
   "outputs": [
    {
     "data": {
      "image/png": "[encoded data removed]",
      "text/plain": [
       "<Figure size 432x288 with 1 Axes>"
      ]
     },
     "metadata": {},
     "output_type": "display_data"
    }
   ],
   "source": [
    "TrainScoreAlgoritmos[\"KNN Treino Score\"] = np.mean(accuracies)\n",
    "TestScoreAlgortimos[\"KNN Teste Score\"] = maiorScore\n",
    "plt.scatter(range(1,20),lista)\n",
    "plt.xlabel('k values')\n",
    "plt.ylabel('Taxa de Acerto')\n",
    "plt.show()"
   ]
  },
  {
   "cell_type": "code",
   "execution_count": 42,
   "metadata": {},
   "outputs": [
    {
     "name": "stdout",
     "output_type": "stream",
     "text": [
      "Média do Train Score: 0.9875\n",
      "\n",
      "Porcentagem de Acerto: 1.0\n"
     ]
    }
   ],
   "source": [
    "# Segundo Algoritmo Floresta Aleatórias\n",
    "\n",
    "\n",
    "RD = RandomForestClassifier(random_state = 42)\n",
    "accuracies = cross_val_score(RD, x_train, y_train, cv=5)\n",
    "RD.fit(x_train,y_train)\n",
    "\n",
    "\n",
    "\n",
    "print(\"Média do Train Score:\",np.mean(accuracies))\n",
    "print()\n",
    "print(\"Porcentagem de Acerto:\",RD.score(x_test,y_test))\n",
    "\n",
    "TrainScoreAlgoritmos[\"Random Forest Treino Score\"] = np.mean(accuracies)\n",
    "TestScoreAlgortimos[\"Random Forest Teste Score\"] = RD.score(x_test,y_test)"
   ]
  },
  {
   "cell_type": "code",
   "execution_count": 43,
   "metadata": {},
   "outputs": [
    {
     "name": "stdout",
     "output_type": "stream",
     "text": [
      "Média do Train Score: 0.7\n",
      "Porcentagem de Acerto: 0.675\n"
     ]
    }
   ],
   "source": [
    "# Terceiro Algoritmo SVM\n",
    "\n",
    "SVM = svm.SVC(random_state = 42)\n",
    "accuracies = cross_val_score(SVM, x_train, y_train, cv=5)\n",
    "SVM.fit(x_train,y_train)\n",
    "\n",
    "\n",
    "\n",
    "print(\"Média do Train Score:\",np.mean(accuracies))\n",
    "print(\"Porcentagem de Acerto:\",SVM.score(x_test,y_test))\n",
    "\n",
    "TrainScoreAlgoritmos[\"SVM Treino Score\"] = np.mean(accuracies)\n",
    "TestScoreAlgortimos[\"SVM Teste Score\"] = SVM.score(x_test,y_test)"
   ]
  },
  {
   "cell_type": "code",
   "execution_count": null,
   "metadata": {},
   "outputs": [],
   "source": [
    "from sklearn.model_selection import GridSearchCV\n",
    "\n",
    "grid = {\n",
    "    'C':[0.01,0.1,1,10],\n",
    "    'kernel' : [\"linear\",\"poly\",\"rbf\",\"sigmoid\"],\n",
    "    'degree' : [1,3,5,7],\n",
    "    'gamma' : [0.01,1]\n",
    "}\n",
    "\n",
    "SVMGRID  = svm.SVC();\n",
    "SVMBEST = GridSearchCV(SVMGRID, grid, cv = 5)\n",
    "SVMBEST.fit(x_train,y_train)\n",
    "print(\"Best Parameters:\",SVMBEST.best_params_)\n",
    "print(\"Train Score:\",SVMBEST.best_score_)\n",
    "print(\"Test Score:\",SVMBEST.score(x_test,y_test))\n",
    "\n",
    "TrainScoreAlgoritmos[\"SVMGRID Treino Score\"] = SVMBEST.best_score_\n",
    "TestScoreAlgortimos[\"SVMGRID Teste Score\"] = SVMBEST.score(x_test,y_test)"
   ]
  },
  {
   "cell_type": "code",
   "execution_count": null,
   "metadata": {},
   "outputs": [],
   "source": [
    "ResultadoTrain = Database.from_dict(TrainScoreAlgoritmos,orient = \"index\",columns=[\"Score\"])\n",
    "ResultadoTeste = Database.from_dict(TestScoreAlgortimos,orient = \"index\",columns=[\"Score\"])\n"
   ]
  },
  {
   "cell_type": "code",
   "execution_count": null,
   "metadata": {},
   "outputs": [],
   "source": [
    "fig,ax = plt.subplots(1,2,figsize=(20,5))\n",
    "sns.barplot(x = ResultadoTrain.index,y = ResultadoTrain.Score,ax = ax[0])\n",
    "sns.barplot(x = ResultadoTeste.index,y = ResultadoTeste.Score,ax = ax[1])\n",
    "ax[0].set_xticklabels(ResultadoTrain.index,rotation = 75)\n",
    "ax[1].set_xticklabels(ResultadoTeste.index,rotation = 75)\n",
    "plt.show()"
   ]
  },
  {
   "cell_type": "code",
   "execution_count": null,
   "metadata": {},
   "outputs": [],
   "source": []
  }
 ],
 "metadata": {
  "kernelspec": {
   "display_name": "Python 3",
   "language": "python",
   "name": "python3"
  },
  "language_info": {
   "codemirror_mode": {
    "name": "ipython",
    "version": 3
   },
   "file_extension": ".py",
   "mimetype": "text/x-python",
   "name": "python",
   "nbconvert_exporter": "python",
   "pygments_lexer": "ipython3",
   "version": "3.8.5"
  }
 },
 "nbformat": 4,
 "nbformat_minor": 4
}
