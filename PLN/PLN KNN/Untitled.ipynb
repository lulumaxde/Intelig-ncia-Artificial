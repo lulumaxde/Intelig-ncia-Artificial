{
 "cells": [
  {
   "cell_type": "code",
   "execution_count": 87,
   "metadata": {},
   "outputs": [],
   "source": [
    "from textblob.classifiers import DecisionTreeClassifier\n",
    "from textblob import TextBlob"
   ]
  },
  {
   "cell_type": "code",
   "execution_count": 88,
   "metadata": {},
   "outputs": [],
   "source": [
    "train_set = [(\"Just plain boring\", \"Negativo\"),\n",
    "             (\"Entirely predictable and lacks energy\" , \"Negativo\"),\n",
    "             (\"No surprises and very few laughs\", \"Negativo\"),\n",
    "             (\"Very powerful\", \"Positivo\"),\n",
    "             (\"The most fun films of the summer!\", \"Positivo\")\n",
    "            ]"
   ]
  },
  {
   "cell_type": "code",
   "execution_count": 89,
   "metadata": {},
   "outputs": [],
   "source": [
    "test_set = [\n",
    "    ('that language sucks', 'Positivo'),\n",
    "    ('You are horrible', 'Negativo'),\n",
    "    ('I am angry', 'Negativo'),\n",
    "    ('good food', 'Positivo'),\n",
    "    ('great party', 'Positivo'),\n",
    "    ('I dont hate everyone','Positivo')\n",
    "]"
   ]
  },
  {
   "cell_type": "code",
   "execution_count": 90,
   "metadata": {},
   "outputs": [],
   "source": [
    "cl = DecisionTreeClassifier(train_set)\n",
    "\n"
   ]
  },
  {
   "cell_type": "code",
   "execution_count": 91,
   "metadata": {},
   "outputs": [],
   "source": [
    "frase = \"I always like foreign films\""
   ]
  },
  {
   "cell_type": "code",
   "execution_count": 92,
   "metadata": {},
   "outputs": [],
   "source": [
    "blob = TextBlob(frase,classifier=cl)"
   ]
  },
  {
   "cell_type": "code",
   "execution_count": 93,
   "metadata": {},
   "outputs": [
    {
     "name": "stdout",
     "output_type": "stream",
     "text": [
      "Esta frase é de caráter:Positivo\n"
     ]
    }
   ],
   "source": [
    "print('Esta frase é de caráter:{}'.format(blob.classify()))"
   ]
  },
  {
   "cell_type": "code",
   "execution_count": null,
   "metadata": {},
   "outputs": [],
   "source": []
  }
 ],
 "metadata": {
  "kernelspec": {
   "display_name": "Python 3",
   "language": "python",
   "name": "python3"
  },
  "language_info": {
   "codemirror_mode": {
    "name": "ipython",
    "version": 3
   },
   "file_extension": ".py",
   "mimetype": "text/x-python",
   "name": "python",
   "nbconvert_exporter": "python",
   "pygments_lexer": "ipython3",
   "version": "3.8.5"
  }
 },
 "nbformat": 4,
 "nbformat_minor": 4
}
