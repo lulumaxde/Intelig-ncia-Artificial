{
 "cells": [
  {
   "cell_type": "code",
   "execution_count": 52,
   "metadata": {},
   "outputs": [],
   "source": [
    "from textblob.classifiers import NaiveBayesClassifier\n",
    "from textblob import TextBlob\n"
   ]
  },
  {
   "cell_type": "code",
   "execution_count": 53,
   "metadata": {},
   "outputs": [],
   "source": [
    "train_set = [(\"eu não gosto deste restaurante\", \"Negativo\"),\n",
    "             (\"estou cansado dessas coisas\" , \"Negativo\"),\n",
    "             (\"eu me sinto bem com essas cervejas\", \"Positivo\"),\n",
    "             (\"eu amo esse sanduíche\", \"Positivo\"),\n",
    "             (\"este é um lugar incrível!\", \"Positivo\")\n",
    "            ]"
   ]
  },
  {
   "cell_type": "code",
   "execution_count": 64,
   "metadata": {},
   "outputs": [],
   "source": [
    "test_set = [\n",
    "    ('otima linguagem', 'Positivo'),\n",
    "    ('péssima essa linguagem', 'Negativo'),\n",
    "    ('você é horrível', 'Negativo'),\n",
    "    ('comida gostosa!', 'Positivo'),\n",
    "    ('que raiva!', 'Negativo'),\n",
    "    ('ótima festa!', 'Positivo'),\n",
    "    ('eu não odeio todo mundo','Positivo')\n",
    "]\n",
    "\n",
    "\n"
   ]
  },
  {
   "cell_type": "code",
   "execution_count": 65,
   "metadata": {},
   "outputs": [],
   "source": [
    "cl = NaiveBayesClassifier(train_set)\n",
    "\n"
   ]
  },
  {
   "cell_type": "code",
   "execution_count": 66,
   "metadata": {},
   "outputs": [],
   "source": [
    "accuracy = cl.accuracy(test_set)"
   ]
  },
  {
   "cell_type": "code",
   "execution_count": 67,
   "metadata": {},
   "outputs": [],
   "source": [
    "frase = \"eu gosto deste lugar\""
   ]
  },
  {
   "cell_type": "code",
   "execution_count": 68,
   "metadata": {},
   "outputs": [],
   "source": [
    "blob = TextBlob(frase,classifier=cl)"
   ]
  },
  {
   "cell_type": "code",
   "execution_count": 69,
   "metadata": {},
   "outputs": [
    {
     "name": "stdout",
     "output_type": "stream",
     "text": [
      "Esta frase é de caráter:Negativo\n",
      "Precisão da previsão:0.42857142857142855\n"
     ]
    }
   ],
   "source": [
    "print('Esta frase é de caráter:{}'.format(blob.classify()))\n",
    "print('Precisão da previsão:{}'.format(accuracy))"
   ]
  }
 ],
 "metadata": {
  "kernelspec": {
   "display_name": "Python 3",
   "language": "python",
   "name": "python3"
  },
  "language_info": {
   "codemirror_mode": {
    "name": "ipython",
    "version": 3
   },
   "file_extension": ".py",
   "mimetype": "text/x-python",
   "name": "python",
   "nbconvert_exporter": "python",
   "pygments_lexer": "ipython3",
   "version": "3.8.5"
  }
 },
 "nbformat": 4,
 "nbformat_minor": 4
}
